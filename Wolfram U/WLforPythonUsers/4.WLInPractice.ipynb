{
 "cells": [
  {
   "cell_type": "markdown",
   "id": "martial-moderator",
   "metadata": {},
   "source": [
    "# 4. A Practical Example of Wolfram Cloud Integration\n",
    "\n",
    "Below is an example of how to utilise functionality specific to the Wolfram Language in a workflow."
   ]
  },
  {
   "cell_type": "markdown",
   "id": "3fd2bbdb",
   "metadata": {},
   "source": [
    "## Access the Wolfram Knowledgebase to augment data "
   ]
  },
  {
   "cell_type": "markdown",
   "id": "ruled-facial",
   "metadata": {},
   "source": [
    "First, load a Pandas dataframe:"
   ]
  },
  {
   "cell_type": "code",
   "execution_count": null,
   "id": "40bb03fd",
   "metadata": {},
   "outputs": [],
   "source": [
    "import pandas as pd\n",
    "import numpy as np\n",
    "\n",
    "from wolframclient.evaluation import WolframLanguageSession\n",
    "from wolframclient.language import wl, wlexpr\n",
    "session = WolframLanguageSession() # May need to provide a file path. See https://wolfr.am/177vH2umJ"
   ]
  },
  {
   "cell_type": "markdown",
   "id": "d3984d83",
   "metadata": {},
   "source": [
    " Get world GDP data and look at the first 5 rows:"
   ]
  },
  {
   "cell_type": "code",
   "execution_count": null,
   "id": "24495040",
   "metadata": {},
   "outputs": [],
   "source": [
    "import os\n",
    "path = os.path.join(os.getcwd(), 'AdditionalFiles')\n",
    "gdp = pd.read_csv(os.path.join(path, 'WorldBankGDP.csv'), skiprows=4)\n",
    "gdp.head(5)"
   ]
  },
  {
   "cell_type": "markdown",
   "id": "8d2b7e8d",
   "metadata": {},
   "source": [
    "Clean up the data:"
   ]
  },
  {
   "cell_type": "code",
   "execution_count": null,
   "id": "474d3190",
   "metadata": {},
   "outputs": [],
   "source": [
    "gdp = gdp.drop(['Indicator Name', 'Indicator Code', 'Country Code', 'Unnamed: 66'], axis=1) # Drop unnecessary columns\n",
    "gdp = gdp[gdp['Country Name'] != 'World'] # Remove 'World' from the country list"
   ]
  },
  {
   "cell_type": "markdown",
   "id": "a8bf4273",
   "metadata": {},
   "source": [
    "Reduce the size of the data for this demonstration:"
   ]
  },
  {
   "cell_type": "code",
   "execution_count": null,
   "id": "b7668764",
   "metadata": {},
   "outputs": [],
   "source": [
    "gdp = gdp.head(5)\n",
    "gdp"
   ]
  },
  {
   "cell_type": "markdown",
   "id": "generous-elite",
   "metadata": {},
   "source": [
    "Define a WL function which takes a country name and returns a (dated) population:"
   ]
  },
  {
   "cell_type": "code",
   "execution_count": null,
   "id": "3e34b590",
   "metadata": {},
   "outputs": [],
   "source": [
    "session.evaluate(wlexpr('''\n",
    "ClearAll[pop];\n",
    "pop[country_String, year_ : DateString[\"Year\"]] := Block[\n",
    "  {countryEntity, population},\n",
    "  countryEntity = Interpreter[\"Country\"][country];\n",
    "  population = EntityValue[countryEntity, Dated[\"Population\", ToExpression[year]]];\n",
    "  If[\n",
    "    Or[\n",
    "      FailureQ[countryEntity], UnsameQ[Head[population], Quantity]\n",
    "    ],\n",
    "    Indeterminate,\n",
    "    QuantityMagnitude[population],\n",
    "    Indeterminate\n",
    "  ]\n",
    "]\n",
    "'''))\n",
    "\n",
    "population = session.function(wlexpr('pop'))"
   ]
  },
  {
   "cell_type": "markdown",
   "id": "a9a4a3f5",
   "metadata": {},
   "source": [
    "Check that the function is working as expected:"
   ]
  },
  {
   "cell_type": "code",
   "execution_count": null,
   "id": "b11761a8",
   "metadata": {},
   "outputs": [],
   "source": [
    "print(population('UK', 2010))\n",
    "print(population('NotACountry', 2010))"
   ]
  },
  {
   "cell_type": "markdown",
   "id": "interim-picnic",
   "metadata": {},
   "source": [
    "Apply the function to each row of the dataset, replacing all of the GDPs with populations. Due to individual Interpreter and Entity calls – each of which has some overhead – this may take a little while:"
   ]
  },
  {
   "cell_type": "code",
   "execution_count": null,
   "id": "a0ce7989",
   "metadata": {},
   "outputs": [],
   "source": [
    "for year in range(1960, 2021):\n",
    "    gdp[str(year)] = gdp.apply(lambda row: population(row['Country Name'], str(year)), axis=1)\n",
    "gdp"
   ]
  },
  {
   "cell_type": "markdown",
   "id": "a95408a0",
   "metadata": {},
   "source": [
    "See how the population of each country has grown over a 50-year period (1960 - 2010):"
   ]
  },
  {
   "cell_type": "code",
   "execution_count": null,
   "id": "a3f5822f",
   "metadata": {},
   "outputs": [],
   "source": [
    "gdp[['Country Name', '1960', '2010']]"
   ]
  },
  {
   "cell_type": "markdown",
   "id": "bad238c2",
   "metadata": {},
   "source": [
    "Plot the population of Aruba over time, using a mixture of Python and Wolfram Language:"
   ]
  },
  {
   "cell_type": "code",
   "execution_count": null,
   "id": "f4f70326",
   "metadata": {},
   "outputs": [],
   "source": [
    "dataClean = wl.Association(wl.Query(wl.All, session.evaluate(wlexpr('First[#] -> KeyValueMap[{ToExpression[#1], #2}&, Rest[#]]&')))(wl.Normal(wl.Values(gdp))))\n",
    "\n",
    "session.evaluate(wlexpr('''\n",
    "plotterWL[data_] := With[\n",
    "    {country = \"Aruba\"},\n",
    "    ListLinePlot[\n",
    "        data[country],\n",
    "        PlotLabel -> country,\n",
    "        Frame -> True,\n",
    "        FrameLabel -> {\"Year\", \"Population\"}\n",
    "    ]\n",
    "]\n",
    "'''))\n",
    "plotter = session.function('plotterWL')\n",
    "\n",
    "graphic = plotter(dataClean)\n",
    "path = os.path.join(os.getcwd(), 'AdditionalFiles')\n",
    "png_export = wl.Export(os.path.join(path, 'PopulationPlot.png'), graphic, \"PNG\")\n",
    "session.evaluate(png_export)\n",
    "\n",
    "from PIL import Image\n",
    "Image.open(os.path.join(path, 'PopulationPlot.png'))"
   ]
  }
 ],
 "metadata": {
  "kernelspec": {
   "display_name": "Python 3.10.6 ('.venv')",
   "language": "python",
   "name": "python3"
  },
  "language_info": {
   "codemirror_mode": {
    "name": "ipython",
    "version": 3
   },
   "file_extension": ".py",
   "mimetype": "text/x-python",
   "name": "python",
   "nbconvert_exporter": "python",
   "pygments_lexer": "ipython3",
   "version": "3.10.6"
  },
  "vscode": {
   "interpreter": {
    "hash": "a1d81e0ab65a2d871dd04cd5480301015f0912bc0455ad9e82832e105402504a"
   }
  }
 },
 "nbformat": 4,
 "nbformat_minor": 5
}
