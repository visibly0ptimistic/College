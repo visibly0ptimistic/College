{
 "cells": [
  {
   "cell_type": "markdown",
   "id": "velvet-tampa",
   "metadata": {},
   "source": [
    "# 2. Serialisation of Python expressions into the Wolfram Language\n",
    "\n",
    "Continuation of _Wolfram Language for Python Users_. This notebook contains examples of:\n",
    "- how to convert Python expressions into Wolfram expressions and vice versa\n",
    "- which Python libraries are supported \n",
    "- how to create custom encoders/decoders to deal with further data types"
   ]
  },
  {
   "cell_type": "markdown",
   "id": "hundred-accountability",
   "metadata": {},
   "source": [
    "## Serialising from Python into the Wolfram Language:"
   ]
  },
  {
   "cell_type": "markdown",
   "id": "forced-photograph",
   "metadata": {},
   "source": [
    "Expressions written in Python syntax can be converted into conventional WL syntax with **export**.\n",
    "\n",
    "* By default, the target_format is WL and this will produce an InputForm string.\n",
    "* a target_format of WXF can also be used, which can then be deserialised."
   ]
  },
  {
   "cell_type": "code",
   "execution_count": null,
   "id": "0b026d27",
   "metadata": {},
   "outputs": [],
   "source": [
    "from wolframclient.language import wl\n",
    "from wolframclient.serializers import export\n",
    "from wolframclient.deserializers import binary_deserialize\n",
    "export([1,2,3])"
   ]
  },
  {
   "cell_type": "code",
   "execution_count": null,
   "id": "different-eligibility",
   "metadata": {},
   "outputs": [],
   "source": [
    "wxf = export([1, 2, 3], target_format = \"wxf\")\n",
    "print(wxf)\n",
    "binary_deserialize(wxf)"
   ]
  },
  {
   "cell_type": "markdown",
   "id": "ranking-foster",
   "metadata": {},
   "source": [
    "Export allows you to take a hybridised Python/Wolfram Language expression and produce a single unified WL expression:"
   ]
  },
  {
   "cell_type": "code",
   "execution_count": null,
   "id": "italic-hollow",
   "metadata": {},
   "outputs": [],
   "source": [
    "export(wl.Select([1,2,3], wl.PrimeQ))"
   ]
  },
  {
   "cell_type": "markdown",
   "id": "otherwise-narrow",
   "metadata": {},
   "source": [
    "## In-built data type serialisation"
   ]
  },
  {
   "cell_type": "markdown",
   "id": "46a91da5",
   "metadata": {},
   "source": [
    "- Lists, sets and dicts are serialised into WL lists.\n",
    "- Generators and iterators are also evaluated into lists.\n",
    "- Numerical types are serialised into their equivalent in the Wolfram Language.\n",
    "- Date, Time and DateTime are seriealised into DateObject/TimeObject."
   ]
  },
  {
   "cell_type": "code",
   "execution_count": null,
   "id": "planned-identification",
   "metadata": {},
   "outputs": [],
   "source": [
    "import datetime\n",
    "now = datetime.datetime.now()\n",
    "export([now.time(), now.date(), now])"
   ]
  },
  {
   "cell_type": "markdown",
   "id": "devoted-spirit",
   "metadata": {},
   "source": [
    "## Libraries"
   ]
  },
  {
   "cell_type": "markdown",
   "id": "b8be90e9",
   "metadata": {},
   "source": [
    "A number of popular Python libraries have default serialisation with wolframclient export:\n",
    "    \n",
    "- **PIL** images are automatically serialised into Image.\n",
    "- **NumPy** arrays of signed and unsigned integers, floats and complexes are serialised into NumericArray.\n",
    "- **Pandas** series and data frames are serialised into Association, Dataset or TimeSeries."
   ]
  },
  {
   "cell_type": "code",
   "execution_count": null,
   "id": "205fb321",
   "metadata": {},
   "outputs": [],
   "source": [
    "import os\n",
    "from PIL import Image\n",
    "path = os.path.join(os.getcwd(), 'AdditionalFiles')\n",
    "barchartImage = Image.open(os.path.join(path, 'barchart1.png'))\n",
    "barchartImage"
   ]
  },
  {
   "cell_type": "code",
   "execution_count": null,
   "id": "fewer-sheep",
   "metadata": {
    "tags": []
   },
   "outputs": [],
   "source": [
    "import numpy\n",
    "x = numpy.array([1, 2, 3])\n",
    "print(x)\n",
    "export(x)"
   ]
  },
  {
   "cell_type": "code",
   "execution_count": null,
   "id": "capable-parliament",
   "metadata": {},
   "outputs": [],
   "source": [
    "import pandas\n",
    "df = pandas.DataFrame(\n",
    "    {'col1': ['v12', 'v12'],\n",
    "    'col2': ['v21', 'v22']},\n",
    "    index=['id1', 'id2'])\n",
    "export(df)"
   ]
  },
  {
   "cell_type": "code",
   "execution_count": null,
   "id": "9d7b82c9",
   "metadata": {},
   "outputs": [],
   "source": [
    "logowxf = export(Image.open(os.path.join(path, 'barchart1.png')), target_format='wxf')"
   ]
  },
  {
   "cell_type": "code",
   "execution_count": null,
   "id": "acute-disclaimer",
   "metadata": {},
   "outputs": [],
   "source": [
    "from wolframclient.evaluation import WolframLanguageSession\n",
    "with WolframLanguageSession() as wl_blocksession: # May need to provide a file path. See https://wolfr.am/177vH2umJ\n",
    "    print(wl_blocksession.evaluate(binary_deserialize(logowxf)))"
   ]
  },
  {
   "cell_type": "markdown",
   "id": "significant-pharmacology",
   "metadata": {},
   "source": [
    "## Extending Serialization"
   ]
  },
  {
   "cell_type": "markdown",
   "id": "c840e065",
   "metadata": {},
   "source": [
    "Custom serialisation can be achieved through writing an Encoder.\n",
    "\n",
    "https://reference.wolfram.com/language/WolframClientForPython/docpages/advanced_usages.html#extending-serialization-writing-an-encoder\n"
   ]
  }
 ],
 "metadata": {
  "kernelspec": {
   "display_name": "Python 3.10.6 ('.venv')",
   "language": "python",
   "name": "python3"
  },
  "language_info": {
   "codemirror_mode": {
    "name": "ipython",
    "version": 3
   },
   "file_extension": ".py",
   "mimetype": "text/x-python",
   "name": "python",
   "nbconvert_exporter": "python",
   "pygments_lexer": "ipython3",
   "version": "3.10.6"
  },
  "vscode": {
   "interpreter": {
    "hash": "a1d81e0ab65a2d871dd04cd5480301015f0912bc0455ad9e82832e105402504a"
   }
  }
 },
 "nbformat": 4,
 "nbformat_minor": 5
}
