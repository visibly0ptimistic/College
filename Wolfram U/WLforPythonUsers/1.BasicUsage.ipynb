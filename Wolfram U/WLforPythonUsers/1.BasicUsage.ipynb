{
 "cells": [
  {
   "cell_type": "markdown",
   "id": "widespread-incentive",
   "metadata": {
    "slideshow": {
     "slide_type": "slide"
    }
   },
   "source": [
    "# 1. Basic Wolfram Language Integration with Python\n",
    "\n",
    "Continuation of _Wolfram Language for Python Users_. This notebook contains examples of:\n",
    "\n",
    "- generating and executing Wolfram Language code\n",
    "- accessing the Wolfram Knowledgebase\n",
    "- communication between languages"
   ]
  },
  {
   "cell_type": "markdown",
   "id": "muslim-clear",
   "metadata": {},
   "source": [
    "## Generating Wolfram Language code"
   ]
  },
  {
   "cell_type": "markdown",
   "id": "98d42e62",
   "metadata": {},
   "source": [
    "All named Wolfram expressions (symbols, functions) can be represented in Python using the **wl.** header:"
   ]
  },
  {
   "cell_type": "code",
   "execution_count": null,
   "id": "floral-decimal",
   "metadata": {},
   "outputs": [],
   "source": [
    "from wolframclient.language import wl, wlexpr\n",
    "x = wl.Select(wl.Range(10), wl.PrimeQ)\n",
    "y = wl.Reverse(wl.Range(10))\n",
    "z = wl.Now\n",
    "print(x)\n",
    "print(y)\n",
    "print(z)"
   ]
  },
  {
   "cell_type": "markdown",
   "id": "qualified-stuart",
   "metadata": {},
   "source": [
    "**wl.expr** can be used to represent all unnamed Wolfram expressions:"
   ]
  },
  {
   "cell_type": "code",
   "execution_count": null,
   "id": "bronze-apple",
   "metadata": {},
   "outputs": [],
   "source": [
    "wl.Map(wlexpr('#^2&'), [1,2,3])"
   ]
  },
  {
   "cell_type": "markdown",
   "id": "yellow-healing",
   "metadata": {},
   "source": [
    "The syntax of WL functions must be modified to work with Python. For example:\n",
    "\n",
    "Function[arg1, arg2, Option->OptionValue] becomes wl.Function(arg1, arg2, Option=OptionValue)."
   ]
  },
  {
   "cell_type": "markdown",
   "id": "protected-ending",
   "metadata": {
    "slideshow": {
     "slide_type": "slide"
    }
   },
   "source": [
    "## Evaluating Wolfram Language code"
   ]
  },
  {
   "cell_type": "markdown",
   "id": "19f2fddb",
   "metadata": {},
   "source": [
    "Wolfram expressions generated inside Python will not evaluate unless called explicitly. One way to achieve this is with local kernel evaluation, which utilises the Wolfram kernel licences contained within a Wolfram product installation such as Mathematica. This is achieved with **session.evaluate** imported from the **WolframLanguageSession** library:"
   ]
  },
  {
   "cell_type": "code",
   "execution_count": null,
   "id": "cordless-prisoner",
   "metadata": {},
   "outputs": [],
   "source": [
    "from wolframclient.evaluation import WolframLanguageSession\n",
    "session = WolframLanguageSession() # May need to provide a file path. See https://wolfr.am/177vH2umJ\n",
    "\n",
    "session.evaluate(x)"
   ]
  },
  {
   "cell_type": "code",
   "execution_count": null,
   "id": "vulnerable-sterling",
   "metadata": {},
   "outputs": [],
   "source": [
    "session.evaluate(y)"
   ]
  },
  {
   "cell_type": "code",
   "execution_count": null,
   "id": "speaking-growth",
   "metadata": {},
   "outputs": [],
   "source": [
    "session.evaluate(z)"
   ]
  },
  {
   "cell_type": "markdown",
   "id": "pacific-witness",
   "metadata": {},
   "source": [
    "**Data Conversion**\n",
    "\n",
    "As shown above, some simple data types (lists, integers) are automatically converted into Python formats. Others, such as DateObject and Graphic, will remain as WL expression types and will need to be serialised (see section 2), manually converted or exported/rendered:"
   ]
  },
  {
   "cell_type": "code",
   "execution_count": null,
   "id": "wireless-winter",
   "metadata": {},
   "outputs": [],
   "source": [
    "import os\n",
    "data = [.3, 2, 4, 5, 5.5]\n",
    "graphic = wl.BarChart(data, ChartLabels=[\"a\", \"b\", \"c\", \"d\", \"e\"])\n",
    "path = os.path.join(os.getcwd(), 'AdditionalFiles')\n",
    "png_export = wl.Export(os.path.join(path, 'barchart1.png'), graphic, \"PNG\")\n",
    "session.evaluate(png_export)"
   ]
  },
  {
   "cell_type": "markdown",
   "id": "light-promise",
   "metadata": {},
   "source": [
    "Some data types can be converted between Python and WL once a relevant library is loaded. For example, PIL or iPython images can be used as image inputs for WL functions:"
   ]
  },
  {
   "cell_type": "code",
   "execution_count": null,
   "id": "3aa711ee",
   "metadata": {},
   "outputs": [],
   "source": [
    "from PIL import Image\n",
    "barchartImage = Image.open(os.path.join(path, 'barchart1.png'))\n",
    "barchartImage"
   ]
  },
  {
   "cell_type": "code",
   "execution_count": null,
   "id": "orange-coffee",
   "metadata": {},
   "outputs": [],
   "source": [
    "png_export2 = wl.Export(os.path.join(path, 'barchart2.png'), wl.GradientFilter(barchartImage, 3), \"PNG\")\n",
    "session.evaluate(png_export2)\n",
    "Image.open(os.path.join(path, 'barchart2.png'))"
   ]
  },
  {
   "cell_type": "markdown",
   "id": "equal-parts",
   "metadata": {},
   "source": [
    "## Defining Functions"
   ]
  },
  {
   "cell_type": "markdown",
   "id": "d5529c03",
   "metadata": {},
   "source": [
    "In addition to symbol definition, Python functions can be defined using WL functions. This can be achieved either by defining the function using Python syntax and WL headers, or by using **session function** to read a pre-defined function within the Wolfram kernel.\n",
    " \n",
    "**Example:** Define a function to return the population density as a fraction of people to country area in people/miles^2."
   ]
  },
  {
   "cell_type": "markdown",
   "id": "cheap-fantasy",
   "metadata": {},
   "source": [
    "**Method 1: using wl headers**"
   ]
  },
  {
   "cell_type": "code",
   "execution_count": 9,
   "id": "nutritional-intro",
   "metadata": {},
   "outputs": [],
   "source": [
    "def population_density(country):\n",
    "    return(session.evaluate(\n",
    "        wl.QuantityMagnitude(\n",
    "            wl.Divide(\n",
    "                wl.EntityValue(wl.Entity(\"Country\", country), \"Population\"),\n",
    "                wl.EntityValue(wl.Entity(\"Country\", country), \"Area\")\n",
    "            )\n",
    "        )\n",
    "  ))"
   ]
  },
  {
   "cell_type": "code",
   "execution_count": null,
   "id": "agreed-motor",
   "metadata": {},
   "outputs": [],
   "source": [
    "population_density(\"France\")"
   ]
  },
  {
   "cell_type": "markdown",
   "id": "vertical-astrology",
   "metadata": {},
   "source": [
    "**Method 2: using WL string expression and session function**\n",
    "\n",
    "First evaluate a WL function definition:"
   ]
  },
  {
   "cell_type": "code",
   "execution_count": 11,
   "id": "optional-first",
   "metadata": {},
   "outputs": [],
   "source": [
    "session.evaluate(wlexpr('''\n",
    "    populationDensity[country_String] := QuantityMagnitude[\n",
    "        Divide[\n",
    "            EntityValue[Entity[\"Country\", country], \"Population\"],\n",
    "            EntityValue[Entity[\"Country\", country], \"Area\"]\n",
    "        ]\n",
    "    ];\n",
    "'''))"
   ]
  },
  {
   "cell_type": "markdown",
   "id": "automatic-concentration",
   "metadata": {},
   "source": [
    "Then call this definition using session.function:"
   ]
  },
  {
   "cell_type": "code",
   "execution_count": 12,
   "id": "applied-elements",
   "metadata": {},
   "outputs": [],
   "source": [
    "population_density2 = session.function(wlexpr('populationDensity'))"
   ]
  },
  {
   "cell_type": "code",
   "execution_count": null,
   "id": "solved-falls",
   "metadata": {},
   "outputs": [],
   "source": [
    "population_density2(\"France\")"
   ]
  },
  {
   "cell_type": "markdown",
   "id": "placed-checkout",
   "metadata": {},
   "source": [
    "Alternatively, using the Global environment:"
   ]
  },
  {
   "cell_type": "code",
   "execution_count": null,
   "id": "romantic-arbor",
   "metadata": {},
   "outputs": [],
   "source": [
    "from wolframclient.language import Global\n",
    "population_density3 = session.function(Global.populationDensity)\n",
    "population_density3(\"France\")"
   ]
  },
  {
   "cell_type": "markdown",
   "id": "assigned-chapter",
   "metadata": {},
   "source": [
    "## Sessions"
   ]
  },
  {
   "cell_type": "markdown",
   "id": "breathing-quality",
   "metadata": {},
   "source": [
    "**Note:** Sessions are equivalent to Wolfram kernels and if not properly terminated will form orphaned kernels. Aim to maintain only a single session within Python and terminate it at the end of every session.\n",
    "\n",
    "To terminate a session, use session.terminate():"
   ]
  },
  {
   "cell_type": "code",
   "execution_count": null,
   "id": "mounted-watch",
   "metadata": {},
   "outputs": [],
   "source": [
    "session.terminate()"
   ]
  },
  {
   "cell_type": "markdown",
   "id": "twelve-birthday",
   "metadata": {},
   "source": [
    "Alternatively, a session can be handled locally with a With block:"
   ]
  },
  {
   "cell_type": "code",
   "execution_count": null,
   "id": "impossible-rogers",
   "metadata": {},
   "outputs": [],
   "source": [
    "with WolframLanguageSession() as wl_blocksession: # May need to provide a file path. See https://wolfr.am/177vH2umJ\n",
    "    print(wl_blocksession.evaluate(wl.StringReverse('abc')))"
   ]
  }
 ],
 "metadata": {
  "kernelspec": {
   "display_name": "Python 3.10.6 ('.venv')",
   "language": "python",
   "name": "python3"
  },
  "language_info": {
   "codemirror_mode": {
    "name": "ipython",
    "version": 3
   },
   "file_extension": ".py",
   "mimetype": "text/x-python",
   "name": "python",
   "nbconvert_exporter": "python",
   "pygments_lexer": "ipython3",
   "version": "3.10.6"
  },
  "vscode": {
   "interpreter": {
    "hash": "a1d81e0ab65a2d871dd04cd5480301015f0912bc0455ad9e82832e105402504a"
   }
  }
 },
 "nbformat": 4,
 "nbformat_minor": 5
}
