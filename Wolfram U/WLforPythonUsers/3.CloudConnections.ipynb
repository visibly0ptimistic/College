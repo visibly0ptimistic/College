{
 "cells": [
  {
   "cell_type": "markdown",
   "id": "criminal-reservoir",
   "metadata": {},
   "source": [
    "# 3. Wolfram Cloud Integration with Python Notebooks\n",
    "\n",
    "Continuation of _Wolfram Language for Python Users_. This notebook contains examples of:\n",
    "- setting up and utilising the Wolfram Cloud for evaluations\n",
    "- deploying and accessing Wolfram APIs\n",
    "- communication between languages"
   ]
  },
  {
   "cell_type": "markdown",
   "id": "770cbfaf",
   "metadata": {},
   "source": [
    "## Set up"
   ]
  },
  {
   "cell_type": "markdown",
   "id": "swiss-bishop",
   "metadata": {},
   "source": [
    "Before you start, you will need to set up a cloud authentication key:\n",
    "\n",
    "https://reference.wolfram.com/language/WolframClientForPython/docpages/basic_usages.html#wolfram-cloud-interactions"
   ]
  },
  {
   "cell_type": "code",
   "execution_count": null,
   "id": "15279479",
   "metadata": {},
   "outputs": [],
   "source": [
    "from wolframclient.evaluation import SecuredAuthenticationKey, WolframCloudSession\n",
    "\n",
    "sak = SecuredAuthenticationKey( # Example keys\n",
    "    '0CRpn5DTG6P7Dhifa/6oZTlaB+/g0UPNH6cRCDVm814=',\n",
    "    'q86IUU+nz8bAh64mK/mwYhzciwv0CNK76jkkcOqxJwA=')"
   ]
  },
  {
   "cell_type": "code",
   "execution_count": null,
   "id": "crucial-space",
   "metadata": {},
   "outputs": [],
   "source": [
    "session = WolframCloudSession(credentials=sak)\n",
    "session.start()\n",
    "session.authorized()"
   ]
  },
  {
   "cell_type": "markdown",
   "id": "iraqi-yeast",
   "metadata": {},
   "source": [
    "The created cloud session can then be used just as with a local session:"
   ]
  },
  {
   "cell_type": "code",
   "execution_count": null,
   "id": "allied-operator",
   "metadata": {},
   "outputs": [],
   "source": [
    "from wolframclient.language import wl, wlexpr\n",
    "session.evaluate(wl.Range(3))"
   ]
  },
  {
   "cell_type": "markdown",
   "id": "waiting-insider",
   "metadata": {},
   "source": [
    "Note however that session.evaluate now functions as CloudEvaluate, so no information or definitions will persist:"
   ]
  },
  {
   "cell_type": "code",
   "execution_count": null,
   "id": "secret-librarian",
   "metadata": {},
   "outputs": [],
   "source": [
    "session.evaluate(wlexpr('x = 1'))"
   ]
  },
  {
   "cell_type": "code",
   "execution_count": null,
   "id": "acceptable-american",
   "metadata": {},
   "outputs": [],
   "source": [
    "session.evaluate(wlexpr('x'))"
   ]
  },
  {
   "cell_type": "markdown",
   "id": "horizontal-amber",
   "metadata": {},
   "source": [
    "Functions therefore must be defined using **session.function**:"
   ]
  },
  {
   "cell_type": "code",
   "execution_count": null,
   "id": "1ddc5998",
   "metadata": {},
   "outputs": [],
   "source": [
    "wl_str_reverse = session.function(wl.StringReverse)"
   ]
  },
  {
   "cell_type": "code",
   "execution_count": null,
   "id": "nonprofit-madonna",
   "metadata": {},
   "outputs": [],
   "source": [
    "wl_str_reverse(\"abcd\")"
   ]
  },
  {
   "cell_type": "markdown",
   "id": "hispanic-failing",
   "metadata": {},
   "source": [
    "## API Cloud Functions"
   ]
  },
  {
   "cell_type": "markdown",
   "id": "3cf8b006",
   "metadata": {},
   "source": [
    "Deployed APIs are one of the most versatile ways of utilising the Wolfram Language. They can be called from within browsers, as well as other languages.\n",
    "Here are two examples in WL code:"
   ]
  },
  {
   "cell_type": "raw",
   "id": "natural-acceptance",
   "metadata": {},
   "source": [
    "(* Single-parameter private API: *)\n",
    "\n",
    "CloudConnect[\"<Wolfram ID>\", \"<password>\"]\n",
    "\n",
    "api = APIFunction[{\"x\" -> \"Integer\"}, #x^2 &];\n",
    "\n",
    "CloudDeploy[api, CloudObject[\"api/private/xsquared\"]]\n",
    "\n",
    "SetPermissions[\n",
    "    CloudObject[\"api/private/xsquared\"],\n",
    "    SecuredAuthenticationKeys[\"pythonclientlibrary\"] -> {\"Read\", \"Execute\"}\n",
    "];"
   ]
  },
  {
   "cell_type": "raw",
   "id": "5d4a5672",
   "metadata": {},
   "source": [
    "(* Multi-parameter public API: *)\n",
    "\n",
    "Import[FileNameJoin[{NotebookDirectory[], \"AdditionalFiles\", \"titanic.csv\"}], \"HeaderLines\" -> 1]\n",
    "titanic = Classify[tdata, Method -> \"NearestNeighbors\"];\n",
    "\n",
    "CloudDeploy[\n",
    "    APIFunction[\n",
    "        {\n",
    "            \"classification\" -> {\"1st\", \"2nd\", \"3rd\"} -> \"1st\",\n",
    "            \"age\" -> Restricted[\"Number\", {1, 100}] -> 20,\n",
    "            \"gender\" -> {\"male\", \"female\"} -> \"male\"\n",
    "        },\n",
    "    titanic[{#classification, #age, #gender}] &\n",
    "    ],\n",
    "    CloudObject[\"api/public/titanic\"],\n",
    "    Permissions -> \"Public\"\n",
    "]"
   ]
  },
  {
   "cell_type": "markdown",
   "id": "identical-craps",
   "metadata": {},
   "source": [
    "Example: Pre-built classification function training on *Titanic* passenger data: "
   ]
  },
  {
   "cell_type": "code",
   "execution_count": null,
   "id": "induced-marking",
   "metadata": {},
   "outputs": [],
   "source": [
    "cloud = WolframCloudSession()\n",
    "\n",
    "api = ('<username>', 'api/public/titanic') # Change '<username>' to your own $Username\n",
    "result = cloud.call(api, {'classification': '1st', 'age': 20, 'gender': 'male'})\n",
    "\n",
    "result.get().decode(\"utf-8\") "
   ]
  },
  {
   "cell_type": "markdown",
   "id": "dangerous-carol",
   "metadata": {},
   "source": [
    "**WolframAPICall** represents a convenient way to perform API calls by setting up parameters separately:"
   ]
  },
  {
   "cell_type": "code",
   "execution_count": null,
   "id": "nuclear-sweet",
   "metadata": {},
   "outputs": [],
   "source": [
    "from wolframclient.evaluation import WolframAPICall\n",
    "call = WolframAPICall(cloud, ('<username>', 'api/public/titanic')) # Change '<username>' to your own $Username\n",
    "call.set_parameter('classification', '1st')\n",
    "call.set_parameter('age', 20)\n",
    "call.set_parameter('gender', 'female')\n",
    "result = call.perform()\n",
    "result.get().decode(\"utf-8\") "
   ]
  }
 ],
 "metadata": {
  "kernelspec": {
   "display_name": "Python 3.10.6 ('.venv')",
   "language": "python",
   "name": "python3"
  },
  "language_info": {
   "codemirror_mode": {
    "name": "ipython",
    "version": 3
   },
   "file_extension": ".py",
   "mimetype": "text/x-python",
   "name": "python",
   "nbconvert_exporter": "python",
   "pygments_lexer": "ipython3",
   "version": "3.10.6"
  },
  "vscode": {
   "interpreter": {
    "hash": "a1d81e0ab65a2d871dd04cd5480301015f0912bc0455ad9e82832e105402504a"
   }
  }
 },
 "nbformat": 4,
 "nbformat_minor": 5
}
