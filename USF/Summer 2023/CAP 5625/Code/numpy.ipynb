{
 "cells": [
  {
   "cell_type": "markdown",
   "id": "b597c1b5-c9e3-438e-bdac-9abd1586ed8d",
   "metadata": {},
   "source": [
    "# NumPy\n",
    "- User guide: https://numpy.org/doc/stable/user/index.html\n",
    "- Documentation: https://numpy.org/doc/stable/reference/index.html\n",
    "- Installation: pip install numpy"
   ]
  },
  {
   "cell_type": "code",
   "execution_count": 1,
   "id": "ff88bfda-fdec-45d6-b72c-65a124c07e74",
   "metadata": {},
   "outputs": [],
   "source": [
    "import numpy as np"
   ]
  },
  {
   "cell_type": "markdown",
   "id": "d1d62b17-eb93-4b4f-ba4d-95642b709244",
   "metadata": {},
   "source": [
    "# Joint distribution"
   ]
  },
  {
   "cell_type": "code",
   "execution_count": 2,
   "id": "4a68e362-60cf-44a2-8f67-acd4f50ab211",
   "metadata": {},
   "outputs": [
    {
     "name": "stdout",
     "output_type": "stream",
     "text": [
      "[['hot' 'sun']\n",
      " ['hot' 'rain']\n",
      " ['cold' 'sun']\n",
      " ['cold' 'rain']]\n",
      "[0.4 0.1 0.2 0.3]\n",
      "(4, 2)\n",
      "<U4\n",
      "(4,)\n",
      "float64\n"
     ]
    }
   ],
   "source": [
    "J_labels = np.asarray([\n",
    "    ['hot', 'sun'],\n",
    "    ['hot', 'rain'],\n",
    "    ['cold', 'sun'],\n",
    "    ['cold', 'rain']\n",
    "])\n",
    "J_values = np.asarray([0.4, 0.1, 0.2, 0.3])\n",
    "\n",
    "print(J_labels)       # print labels\n",
    "print(J_values)       # print probability values\n",
    "\n",
    "print(J_labels.shape) # print array size\n",
    "print(J_labels.dtype) # print array type\n",
    "\n",
    "print(J_values.shape) # print array size\n",
    "print(J_values.dtype) # print array type"
   ]
  },
  {
   "cell_type": "markdown",
   "id": "7ddccb55-1d13-41d2-8619-e50d1530a83b",
   "metadata": {},
   "source": [
    "# Events\n",
    "- Probability that it’s hot?\n",
    "- Probability that it’s hot AND sunny?\n",
    "- Probability that it’s hot OR sunny?"
   ]
  },
  {
   "cell_type": "code",
   "execution_count": 3,
   "id": "3fd80b32-8704-44db-be0f-836daac414fd",
   "metadata": {},
   "outputs": [
    {
     "name": "stdout",
     "output_type": "stream",
     "text": [
      "[ True  True False False]\n",
      "[0.4 0.1]\n",
      "0.5\n"
     ]
    }
   ],
   "source": [
    "mask = J_labels[:,0] == 'hot'\n",
    "print(mask)                                      # rows with label 'hot'\n",
    "print(J_values[mask])                            # probabilities in rows with label 'hot'\n",
    "print(np.sum(J_values[mask]) / np.sum(J_values)) # probability that it's hot"
   ]
  },
  {
   "cell_type": "code",
   "execution_count": 4,
   "id": "448937e5-34cb-45d3-96f7-2d57a0fd8e18",
   "metadata": {},
   "outputs": [
    {
     "name": "stdout",
     "output_type": "stream",
     "text": [
      "0.4\n"
     ]
    }
   ],
   "source": [
    "mask = np.logical_and(J_labels[:,0] == 'hot', J_labels[:,1] == 'sun')\n",
    "print(np.sum(J_values[mask]) / np.sum(J_values))"
   ]
  },
  {
   "cell_type": "code",
   "execution_count": 5,
   "id": "c7d68842-ce00-4ad7-b7a1-9d05c4cda90a",
   "metadata": {},
   "outputs": [
    {
     "name": "stdout",
     "output_type": "stream",
     "text": [
      "0.7\n"
     ]
    }
   ],
   "source": [
    "mask = np.logical_or(J_labels[:,0] == 'hot', J_labels[:,1] == 'sun')\n",
    "print(np.sum(J_values[mask]) / np.sum(J_values))"
   ]
  },
  {
   "cell_type": "markdown",
   "id": "ccaf0de4-4209-4540-bcfa-7fd1c266c30d",
   "metadata": {},
   "source": [
    "# Marginal distributions"
   ]
  },
  {
   "cell_type": "code",
   "execution_count": 7,
   "id": "98620c25-4a49-42a9-b20d-fabf548aa2d9",
   "metadata": {},
   "outputs": [
    {
     "name": "stdout",
     "output_type": "stream",
     "text": [
      "['rain' 'sun']\n",
      "[0.4, 0.6000000000000001]\n"
     ]
    }
   ],
   "source": [
    "col = 1\n",
    "labels = np.unique(J_labels[:,col])\n",
    "values = [np.sum(J_values[J_labels[:,col] == label]) for label in labels]\n",
    "print(labels)\n",
    "print(values)"
   ]
  },
  {
   "cell_type": "markdown",
   "id": "5c55d0d3-65b2-4711-92f3-a66d193f234c",
   "metadata": {},
   "source": [
    "# Conditional probabilities\n",
    "- P(sun|cold) = P(sun,cold) / P(cold)"
   ]
  },
  {
   "cell_type": "code",
   "execution_count": 8,
   "id": "3e214625-9d1b-4bb0-a5a7-993b4fa63f14",
   "metadata": {},
   "outputs": [
    {
     "name": "stdout",
     "output_type": "stream",
     "text": [
      "0.4\n"
     ]
    }
   ],
   "source": [
    "P_sun_cold = np.sum(J_values[np.logical_and(J_labels[:,0] == 'cold', J_labels[:,1] == 'sun')]) / np.sum(J_values)\n",
    "P_cold = np.sum(J_values[J_labels[:,0] == 'cold']) / np.sum(J_values)\n",
    "print(P_sun_cold/P_cold)"
   ]
  },
  {
   "cell_type": "markdown",
   "id": "10c18326-2259-47ea-ae5f-ca036c1502ab",
   "metadata": {},
   "source": [
    "# Conditional distributions"
   ]
  },
  {
   "cell_type": "code",
   "execution_count": 10,
   "id": "3e3bb2c1-f378-43e7-8c8c-779e66144948",
   "metadata": {},
   "outputs": [
    {
     "name": "stdout",
     "output_type": "stream",
     "text": [
      "['sun' 'rain']\n",
      "[0.4 0.6]\n"
     ]
    }
   ],
   "source": [
    "# P(A|B = evidence)\n",
    "A = 1\n",
    "B = 0\n",
    "evidence = 'cold'\n",
    "\n",
    "# Select\n",
    "labels = J_labels[:,A][J_labels[:,B] == evidence]\n",
    "values = J_values[J_labels[:,B] == evidence]\n",
    "\n",
    "# Normalize\n",
    "values /= np.sum(values)\n",
    "\n",
    "print(labels)\n",
    "print(values)"
   ]
  },
  {
   "cell_type": "code",
   "execution_count": null,
   "id": "c79e0362-3ef6-44e5-afb4-a7e10e3bddef",
   "metadata": {},
   "outputs": [],
   "source": []
  }
 ],
 "metadata": {
  "kernelspec": {
   "display_name": "Python 3 (ipykernel)",
   "language": "python",
   "name": "python3"
  },
  "language_info": {
   "codemirror_mode": {
    "name": "ipython",
    "version": 3
   },
   "file_extension": ".py",
   "mimetype": "text/x-python",
   "name": "python",
   "nbconvert_exporter": "python",
   "pygments_lexer": "ipython3",
   "version": "3.9.13"
  }
 },
 "nbformat": 4,
 "nbformat_minor": 5
}
