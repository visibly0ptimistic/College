{
 "cells": [
  {
   "cell_type": "markdown",
   "id": "74083461-8924-4d63-936b-127a2b6181e0",
   "metadata": {},
   "source": [
    "# **Reinforcement Learning with Q-Learning**\n",
    "\n",
    "![RL problem](rl.png)"
   ]
  },
  {
   "cell_type": "code",
   "execution_count": 1,
   "id": "7be525ac-c5c3-47a8-85e9-30e97fbf796f",
   "metadata": {},
   "outputs": [],
   "source": [
    "import numpy as np\n",
    "import random\n",
    "import matplotlib.pyplot as plt"
   ]
  },
  {
   "cell_type": "markdown",
   "id": "c021a690-6c40-4319-ac72-60986acf7101",
   "metadata": {},
   "source": [
    "## **Environment model**"
   ]
  },
  {
   "cell_type": "code",
   "execution_count": 2,
   "id": "98e02c03-f9eb-4715-ae65-436fb0b10a1d",
   "metadata": {},
   "outputs": [],
   "source": [
    "nrows = 3\n",
    "ncols = 4\n",
    "nactions = 4\n",
    "\n",
    "goal = set([(0,0), (1,3)])\n",
    "actions = {0: (0,1), 1: (0,-1), 2: (-1,0), 3: (1,0)} # 0: right, 1: left, 2: up, 3: down\n",
    "\n",
    "q_table = np.zeros([nrows, ncols, nactions], dtype=np.float32)\n",
    "\n",
    "def get_random_state():\n",
    "    return (random.randrange(nrows), random.randrange(ncols))\n",
    "\n",
    "def get_random_action():\n",
    "    return random.randrange(nactions)\n",
    "\n",
    "def get_best_action(row, col):\n",
    "    return np.argmax(q_table[row,col])\n",
    "\n",
    "def apply_action(row, col, action):\n",
    "    if (row,col) in goal:\n",
    "        return row, col, 0, True\n",
    "\n",
    "    new_row = row + actions[action][0]\n",
    "    new_col = col + actions[action][1]\n",
    "    if new_row < 0 or new_row >= nrows or new_col < 0 or new_col >= ncols:\n",
    "        new_row, new_col = row, col\n",
    "\n",
    "    return new_row, new_col, -1, False"
   ]
  },
  {
   "cell_type": "code",
   "execution_count": 3,
   "id": "843f2f8d-487f-4ec1-a56f-b1ddd2b9b1a0",
   "metadata": {},
   "outputs": [
    {
     "data": {
      "text/plain": [
       "array([[[0., 0., 0., 0.],\n",
       "        [0., 0., 0., 0.],\n",
       "        [0., 0., 0., 0.],\n",
       "        [0., 0., 0., 0.]],\n",
       "\n",
       "       [[0., 0., 0., 0.],\n",
       "        [0., 0., 0., 0.],\n",
       "        [0., 0., 0., 0.],\n",
       "        [0., 0., 0., 0.]],\n",
       "\n",
       "       [[0., 0., 0., 0.],\n",
       "        [0., 0., 0., 0.],\n",
       "        [0., 0., 0., 0.],\n",
       "        [0., 0., 0., 0.]]], dtype=float32)"
      ]
     },
     "execution_count": 3,
     "metadata": {},
     "output_type": "execute_result"
    }
   ],
   "source": [
    "q_table"
   ]
  },
  {
   "cell_type": "code",
   "execution_count": 4,
   "id": "9920cf6e-dbdf-45cf-ac1f-f1d17a0d44d5",
   "metadata": {},
   "outputs": [
    {
     "name": "stdout",
     "output_type": "stream",
     "text": [
      "Initial policy:\n"
     ]
    },
    {
     "data": {
      "image/png": "[encoded data removed]",
      "text/plain": [
       "<Figure size 400x300 with 1 Axes>"
      ]
     },
     "metadata": {},
     "output_type": "display_data"
    }
   ],
   "source": [
    "print('Initial policy:')\n",
    "scale = 0.25\n",
    "fig, ax = plt.subplots(figsize=(ncols, nrows))\n",
    "for r in range(nrows):\n",
    "    for c in range(ncols):\n",
    "        if (r,c) in goal:\n",
    "            plt.scatter(c+0.5, nrows-r-0.5, s=200, c='k', marker='*')\n",
    "            continue\n",
    "        amax = np.amax(q_table[r][c])\n",
    "        for a in range(nactions):\n",
    "            if q_table[r,c,a] == amax:\n",
    "                plt.arrow(c+0.5, nrows-r-0.5, scale*actions[a][1], -scale*actions[a][0], head_width=0.1)\n",
    "\n",
    "plt.xticks(np.arange(ncols+1))\n",
    "plt.yticks(np.arange(nrows+1))\n",
    "plt.grid(visible=True, which='major', axis='both')\n",
    "plt.show()"
   ]
  },
  {
   "cell_type": "markdown",
   "id": "d97533f0-ad94-4f9d-8ae5-c65761a78a3d",
   "metadata": {},
   "source": [
    "## **Q-Learning**"
   ]
  },
  {
   "cell_type": "code",
   "execution_count": 5,
   "id": "0be64a09-791c-4301-8b70-813d9fd95261",
   "metadata": {},
   "outputs": [
    {
     "name": "stdout",
     "output_type": "stream",
     "text": [
      "Training finished.\n",
      "\n"
     ]
    }
   ],
   "source": [
    "# Hyperparameters\n",
    "alpha = 0.1    # learning rate\n",
    "gamma = 0.6    # discount rate\n",
    "epsilon = 0.1  # exploration vs. exploitation\n",
    "\n",
    "for i in range(100000):\n",
    "    print('Episode {}'.format(i+1), end='\\r')\n",
    "    row,col = get_random_state()\n",
    "\n",
    "    done = False\n",
    "    while not done:\n",
    "        if random.uniform(0, 1) < epsilon:\n",
    "            action = get_random_action() # Explore action space\n",
    "        else:\n",
    "            action = get_best_action(row,col) # Exploit learned values\n",
    "\n",
    "        new_row, new_col, reward, done = apply_action(row, col, action) \n",
    "\n",
    "        old_value = q_table[row, col, action]\n",
    "        new_action = get_best_action(new_row, new_col)\n",
    "        next_max = q_table[new_row, new_col, new_action]\n",
    "        \n",
    "        new_value = (1 - alpha) * old_value + alpha * (reward + gamma * next_max)\n",
    "        q_table[row, col, action] = new_value\n",
    "\n",
    "        row, col = new_row, new_col\n",
    "\n",
    "print(\"Training finished.\\n\")\n"
   ]
  },
  {
   "cell_type": "markdown",
   "id": "48d1b733-79f4-4e48-a550-7eabd55493e3",
   "metadata": {},
   "source": [
    "## **Optimal policy**"
   ]
  },
  {
   "cell_type": "code",
   "execution_count": 6,
   "id": "5fb1e12c-1600-4f11-acef-ee6759dd81da",
   "metadata": {},
   "outputs": [
    {
     "data": {
      "text/plain": [
       "array([[[ 0.        ,  0.        ,  0.        ,  0.        ],\n",
       "        [-1.9599991 , -0.99999976, -1.5999993 , -1.9599991 ],\n",
       "        [-1.5999993 , -1.5999993 , -1.9599991 , -1.5999993 ],\n",
       "        [-1.5999993 , -1.9599991 , -1.5999993 , -0.99999976]],\n",
       "\n",
       "       [[-1.9599991 , -1.5999993 , -0.99999976, -1.9599991 ],\n",
       "        [-1.5999993 , -1.5999993 , -1.5999993 , -2.1759984 ],\n",
       "        [-0.99999976, -1.9599991 , -1.9599991 , -1.9599991 ],\n",
       "        [ 0.        ,  0.        ,  0.        ,  0.        ]],\n",
       "\n",
       "       [[-2.1759984 , -1.9599991 , -1.5999993 , -1.9599991 ],\n",
       "        [-1.9599991 , -1.9599991 , -1.9599991 , -2.1759984 ],\n",
       "        [-1.5999993 , -2.1759984 , -1.5999993 , -1.9599991 ],\n",
       "        [-1.5999993 , -1.9599991 , -0.99999976, -1.5999993 ]]],\n",
       "      dtype=float32)"
      ]
     },
     "execution_count": 6,
     "metadata": {},
     "output_type": "execute_result"
    }
   ],
   "source": [
    "q_table"
   ]
  },
  {
   "cell_type": "code",
   "execution_count": 7,
   "id": "82591119-8e4e-45fa-9ffb-7407c88ff4cf",
   "metadata": {},
   "outputs": [
    {
     "name": "stdout",
     "output_type": "stream",
     "text": [
      "Optimal policy:\n"
     ]
    },
    {
     "data": {
      "image/png": "[encoded data removed]",
      "text/plain": [
       "<Figure size 400x300 with 1 Axes>"
      ]
     },
     "metadata": {},
     "output_type": "display_data"
    }
   ],
   "source": [
    "print('Optimal policy:')\n",
    "scale = 0.25\n",
    "fig, ax = plt.subplots(figsize=(ncols, nrows))\n",
    "for r in range(nrows):\n",
    "    for c in range(ncols):\n",
    "        if (r,c) in goal:\n",
    "            plt.scatter(c+0.5, nrows-r-0.5, s=200, c='k', marker='*')\n",
    "            continue\n",
    "        amax = np.amax(q_table[r][c])\n",
    "        for a in range(nactions):\n",
    "            if q_table[r,c,a] == amax:\n",
    "                plt.arrow(c+0.5, nrows-r-0.5, scale*actions[a][1], -scale*actions[a][0], head_width=0.1)\n",
    "\n",
    "plt.xticks(np.arange(ncols+1))\n",
    "plt.yticks(np.arange(nrows+1))\n",
    "plt.grid(visible=True, which='major', axis='both')\n",
    "plt.show()"
   ]
  },
  {
   "cell_type": "code",
   "execution_count": null,
   "id": "a4659a8d-bbc6-4422-8ea4-cc8f66fb33d2",
   "metadata": {},
   "outputs": [],
   "source": []
  }
 ],
 "metadata": {
  "kernelspec": {
   "display_name": "Python 3 (ipykernel)",
   "language": "python",
   "name": "python3"
  },
  "language_info": {
   "codemirror_mode": {
    "name": "ipython",
    "version": 3
   },
   "file_extension": ".py",
   "mimetype": "text/x-python",
   "name": "python",
   "nbconvert_exporter": "python",
   "pygments_lexer": "ipython3",
   "version": "3.10.8"
  }
 },
 "nbformat": 4,
 "nbformat_minor": 5
}
