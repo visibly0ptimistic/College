{
  "cells": [
    {
      "cell_type": "code",
      "execution_count": 1,
      "metadata": {
        "id": "u_DB0wr8W5aj"
      },
      "outputs": [],
      "source": [
        "from sklearn.datasets import fetch_covtype\n",
        "from sklearn import tree\n",
        "from sklearn.model_selection import train_test_split\n",
        "from sklearn.neighbors import KNeighborsClassifier\n",
        "from sklearn.metrics import accuracy_score\n",
        "import numpy as np\n",
        "import pandas as pd\n",
        "# Load dataset into ctype\n",
        "ctype=fetch_covtype(shuffle=True)\n"
      ]
    },
    {
      "cell_type": "code",
      "execution_count": 2,
      "metadata": {
        "id": "3W9pcP8OXcNs"
      },
      "outputs": [
        {
          "name": "stdout",
          "output_type": "stream",
          "text": [
            "Accuracy of Decision Tree (50% split):  0.9227485835060205\n",
            "Accuracy of Decision Tree (20% split):  0.9387795495813361\n",
            "Difference in accuracies:  -0.016030966075315622\n",
            "number of integer features:  10\n",
            "number of binary features:  44\n",
            "number of instances:  581012\n",
            "number of features:  54\n",
            "number of classes:  7\n",
            "number of instances in class 1:  211840\n",
            "number of instances in class 2:  283301\n",
            "number of instances in class 3:  35754\n",
            "number of instances in class 4:  2747\n",
            "number of instances in class 5:  9493\n",
            "number of instances in class 6:  17367\n",
            "number of instances in class 7:  20510\n"
          ]
        }
      ],
      "source": [
        "# Get features and class value\n",
        "X, y = ctype.data, ctype.target\n",
        "#build decision tree\n",
        "clf = tree.DecisionTreeClassifier()\n",
        "# split data to train/test\n",
        "X_train, X_test, y_train, y_test = train_test_split(X, y, test_size=0.5, random_state=0)\n",
        "#Build decision tree\n",
        "y_pred = clf.fit(X_train, y_train).predict(X_test)\n",
        "# Calculate accuracy\n",
        "accuracy = accuracy_score(y_test, y_pred)\n",
        "print(\"Accuracy of Decision Tree (50% split): \", accuracy)\n",
        "# Split data to train/test\n",
        "X_train, X_test, y_train, y_test = train_test_split(X, y, test_size=0.2, random_state=0)\n",
        "# Build decision tree\n",
        "y_pred_20 = clf.fit(X_train, y_train).predict(X_test)\n",
        "# Calculate accuracy\n",
        "accuracy_20 = accuracy_score(y_test, y_pred_20)\n",
        "print(\"Accuracy of Decision Tree (20% split): \", accuracy_20)\n",
        "# Print the difference in accuracies\n",
        "print(\"Difference in accuracies: \", accuracy - accuracy_20)\n",
        "# Print the number of integer and binary features\n",
        "num_features = X.shape[1]\n",
        "num_integer_features = 10\n",
        "num_binary_features = num_features - num_integer_features\n",
        "print(\"number of integer features: \", num_integer_features)\n",
        "print(\"number of binary features: \", num_binary_features)\n",
        "#print the number of instances and features\n",
        "print(\"number of instances: \", X.shape[0])\n",
        "print(\"number of features: \", X.shape[1])\n",
        "#print the number of unique classes\n",
        "print(\"number of classes: \", np.unique(y).shape[0])\n",
        "#print the number of instances in each class\n",
        "for i in np.unique(y):\n",
        "    print(f\"number of instances in class {i}: \", np.sum(y == i))"
      ]
    },
    {
      "cell_type": "code",
      "execution_count": 3,
      "metadata": {
        "id": "TmVYKqk1X_UF"
      },
      "outputs": [
        {
          "name": "stdout",
          "output_type": "stream",
          "text": [
            "Accuracy of 1-NN:  0.9651041711487656\n",
            "Difference in accuracies (Decision Tree - 1-NN):  -0.02632462156742943\n"
          ]
        }
      ],
      "source": [
        "#Single nearest neighbor\n",
        "neigh = KNeighborsClassifier(n_neighbors=1)\n",
        "#Build NN classifier and predict\n",
        "sy_pred = neigh.fit(X_train, y_train).predict(X_test)\n",
        "#calculate accuracy\n",
        "accuracy_nn = accuracy_score(y_test, sy_pred)\n",
        "print(\"Accuracy of 1-NN: \", accuracy_nn)\n",
        "#compare with decision tree\n",
        "print(\"Difference in accuracies (Decision Tree - 1-NN): \", accuracy_20 - accuracy_nn)"
      ]
    }
  ],
  "metadata": {
    "colab": {
      "collapsed_sections": [],
      "provenance": []
    },
    "kernelspec": {
      "display_name": "Python 3",
      "name": "python3"
    },
    "language_info": {
      "codemirror_mode": {
        "name": "ipython",
        "version": 3
      },
      "file_extension": ".py",
      "mimetype": "text/x-python",
      "name": "python",
      "nbconvert_exporter": "python",
      "pygments_lexer": "ipython3",
      "version": "3.10.4"
    }
  },
  "nbformat": 4,
  "nbformat_minor": 0
}
