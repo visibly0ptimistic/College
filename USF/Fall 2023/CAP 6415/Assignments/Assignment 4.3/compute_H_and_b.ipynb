{
 "cells": [
  {
   "cell_type": "markdown",
   "id": "c4f32ea7",
   "metadata": {},
   "source": [
    "## Assignment: Computing H without for loops\n",
    "\n",
    "I compute the matrix $\\mathbf{H}$ and vector $\\mathbf{b}$ using given samples $\\{(x_1, y_1), \\cdots, (x_n, y_n)\\}$ without using for-loops."
   ]
  },
  {
   "cell_type": "code",
   "execution_count": 1,
   "id": "bae6c2b4",
   "metadata": {},
   "outputs": [
    {
     "name": "stdout",
     "output_type": "stream",
     "text": [
      "H: [[14  6]\n",
      " [ 6  3]]\n",
      "b: [[14]\n",
      " [ 6]]\n"
     ]
    }
   ],
   "source": [
    "import numpy as np\n",
    "\n",
    "# compute_H and compute_b are functions that take in X and Y and compute H and b\n",
    "def compute_H(X, Y):\n",
    "    # X and Y are assumed to be numpy arrays of shape (N, 1)\n",
    "    X_sum = np.sum(X)\n",
    "    X_square_sum = np.sum(X**2)\n",
    "    N = X.shape[0]\n",
    "    # H is a 2x2 matrix\n",
    "    H = np.array([[X_square_sum, X_sum],[X_sum, N]])\n",
    "    return H\n",
    "\n",
    "def compute_b(X, Y):\n",
    "    # X and Y are assumed to be numpy arrays of shape (N, 1)\n",
    "    b = np.array([np.sum((Y - X) * X), np.sum(Y - X)])\n",
    "    return b.reshape(-1, 1)  # reshape to make b a column vector\n",
    "\n",
    "# example usage:\n",
    "X = np.array([[1], [2], [3]])\n",
    "Y = np.array([[2], [4], [6]])\n",
    "\n",
    "# compute H and b\n",
    "H = compute_H(X, Y)\n",
    "b = compute_b(X, Y)\n",
    "print(\"H:\", H)\n",
    "print(\"b:\", b)"
   ]
  },
  {
   "cell_type": "markdown",
   "id": "7d338398",
   "metadata": {},
   "source": [
    "## Testing the Implementation\n",
    "I test the implementation using synthetic data generated using a known noisy model and estimate the parameters."
   ]
  },
  {
   "cell_type": "code",
   "execution_count": 2,
   "id": "712b23ee",
   "metadata": {},
   "outputs": [
    {
     "name": "stdout",
     "output_type": "stream",
     "text": [
      "Estimated a: 2.4990296233752423\n",
      "Estimated b: 1.007716724932393\n",
      "True a: 2.5\n",
      "True b: 1.0\n"
     ]
    }
   ],
   "source": [
    "# generate synthetic data\n",
    "np.random.seed(0)  # for reproducibility\n",
    "N = 1000  # number of samples\n",
    "true_a = 2.5  # true value of a\n",
    "true_b = 1.0  # true value of b\n",
    "noise_std = 0.1  # standard deviation of noise\n",
    "\n",
    "X_synthetic = np.random.rand(N, 1) * 10  # random samples between 0 and 10\n",
    "Y_synthetic = (true_a + 1) * X_synthetic + true_b + noise_std * np.random.randn(N, 1)  # synthetic Y with noise\n",
    "\n",
    "# compute H and b for synthetic data\n",
    "H_synthetic = compute_H(X_synthetic, Y_synthetic)\n",
    "b_synthetic = compute_b(X_synthetic, Y_synthetic)\n",
    "\n",
    "# solve for parameters a and b\n",
    "parameters = np.linalg.solve(H_synthetic, b_synthetic)\n",
    "\n",
    "print(\"Estimated a:\", parameters[0][0])\n",
    "print(\"Estimated b:\", parameters[1][0])\n",
    "print(\"True a:\", true_a)\n",
    "print(\"True b:\", true_b)"
   ]
  }
 ],
 "metadata": {
  "kernelspec": {
   "display_name": "Python 3",
   "language": "python",
   "name": "python3"
  },
  "language_info": {
   "codemirror_mode": {
    "name": "ipython",
    "version": 3
   },
   "file_extension": ".py",
   "mimetype": "text/x-python",
   "name": "python",
   "nbconvert_exporter": "python",
   "pygments_lexer": "ipython3",
   "version": "3.11.5"
  }
 },
 "nbformat": 4,
 "nbformat_minor": 5
}
